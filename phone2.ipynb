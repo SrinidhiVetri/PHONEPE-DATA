{
 "cells": [
  {
   "cell_type": "code",
   "execution_count": 1,
   "metadata": {},
   "outputs": [],
   "source": [
    "import pandas as pd\n",
    "import mysql.connector\n",
    "import plotly.express as px\n",
    "import requests\n",
    "import json\n",
    "#import streamlit as st"
   ]
  },
  {
   "cell_type": "code",
   "execution_count": 2,
   "metadata": {},
   "outputs": [],
   "source": [
    "#dataframe Creation\n",
    "\n",
    "\n",
    "mydb=mysql.connector.connect(host='localhost', user='root', password='srinidhi@123',database='phonepe')\n",
    "cursor=mydb.cursor()\n",
    "\n",
    "#Aggregated_insurance_df\n",
    "\n",
    "cursor.execute(\"select * from aggregated_insurance\")\n",
    "#mydb.commit()\n",
    "table0=cursor.fetchall()\n",
    "\n",
    "aggre_insurance=pd.DataFrame(table0, columns=(\"states\",\"years\",\"Quarter\",\"Transaction_type\",\n",
    "                                              \"Transaction_count\",\"Transaction_Amount\"))"
   ]
  },
  {
   "cell_type": "code",
   "execution_count": 3,
   "metadata": {},
   "outputs": [],
   "source": [
    "mydb=mysql.connector.connect(host='localhost', user='root', password='srinidhi@123',database='phonepe')\n",
    "cursor=mydb.cursor()\n",
    "\n",
    "#Aggregated_Transaction_df\n",
    "\n",
    "cursor.execute(\"select * from aggregated_transaction\")\n",
    "#mydb.commit()\n",
    "table1=cursor.fetchall()\n",
    "\n",
    "aggre_transaction=pd.DataFrame(table1, columns=(\"states\",\"years\",\"Quarter\",\"Transaction_type\"\n",
    "                                              ,\"Transaction_count\",\"Transaction_Amount\"))"
   ]
  },
  {
   "cell_type": "code",
   "execution_count": 4,
   "metadata": {},
   "outputs": [],
   "source": [
    "mydb=mysql.connector.connect(host='localhost', user='root', password='srinidhi@123',database='phonepe')\n",
    "cursor=mydb.cursor()\n",
    "\n",
    "#Aggregated_user_df\n",
    "\n",
    "cursor.execute(\"select * from aggregated_user\")\n",
    "#mydb.commit()\n",
    "table2=cursor.fetchall()\n",
    "\n",
    "aggre_user=pd.DataFrame(table2, columns=(\"states\",\"years\",\"Quarter\",\"Brands\"\n",
    "                                              ,\"Transaction_count\",\"Percentage\"))"
   ]
  },
  {
   "cell_type": "code",
   "execution_count": 5,
   "metadata": {},
   "outputs": [],
   "source": [
    "mydb=mysql.connector.connect(host='localhost', user='root', password='srinidhi@123',database='phonepe')\n",
    "cursor=mydb.cursor()\n",
    "\n",
    "#map_insurance_table\n",
    "\n",
    "cursor.execute(\"select * from map_insurance\")\n",
    "#mydb.commit()\n",
    "table3=cursor.fetchall()\n",
    "\n",
    "map_insurance=pd.DataFrame(table3, columns=(\"states\",\"years\",\"Quarter\",\"Districts\"\n",
    "                                              ,\"Transaction_count\",\"Transaction_Amount\"))"
   ]
  },
  {
   "cell_type": "code",
   "execution_count": 6,
   "metadata": {},
   "outputs": [],
   "source": [
    "mydb=mysql.connector.connect(host='localhost', user='root', password='srinidhi@123',database='phonepe')\n",
    "cursor=mydb.cursor()\n",
    "\n",
    "\n",
    "#map_Transaction_table\n",
    "\n",
    "cursor.execute(\"select * from map_transaction\")\n",
    "#mydb.commit()\n",
    "table4=cursor.fetchall()\n",
    "\n",
    "map_tran=pd.DataFrame(table4, columns=(\"states\",\"years\",\"Quarter\",\"Districts\"\n",
    "                                              ,\"Transaction_count\",\"Transaction_Amount\"))"
   ]
  },
  {
   "cell_type": "code",
   "execution_count": 7,
   "metadata": {},
   "outputs": [],
   "source": [
    "mydb=mysql.connector.connect(host='localhost', user='root', password='srinidhi@123',database='phonepe')\n",
    "cursor=mydb.cursor()\n",
    "\n",
    "\n",
    "#map_user_table\n",
    "\n",
    "cursor.execute(\"select * from map_user\")\n",
    "#mydb.commit()\n",
    "table5=cursor.fetchall()\n",
    "\n",
    "map_user=pd.DataFrame(table5, columns=(\"states\",\"years\",\"Quarter\",\"Districts\"\n",
    "                                              ,\"RegisteredUsers\",\"AppOpens\"))"
   ]
  },
  {
   "cell_type": "code",
   "execution_count": 8,
   "metadata": {},
   "outputs": [],
   "source": [
    "mydb=mysql.connector.connect(host='localhost', user='root', password='srinidhi@123',database='phonepe')\n",
    "cursor=mydb.cursor()\n",
    "\n",
    "\n",
    "#top_insurance_table\n",
    "\n",
    "cursor.execute(\"select * from top_insurance\")\n",
    "#mydb.commit()\n",
    "table6=cursor.fetchall()\n",
    "\n",
    "top_insurance=pd.DataFrame(table6, columns=(\"states\",\"years\",\"Quarter\",\"Pincodes\"\n",
    "                                              ,\"Transaction_count\",\"Transaction_Amount\"))"
   ]
  },
  {
   "cell_type": "code",
   "execution_count": 9,
   "metadata": {},
   "outputs": [],
   "source": [
    "mydb=mysql.connector.connect(host='localhost', user='root', password='srinidhi@123',database='phonepe')\n",
    "cursor=mydb.cursor()\n",
    "\n",
    "\n",
    "#top_transaction_table\n",
    "\n",
    "cursor.execute(\"select * from top_transaction\")\n",
    "#mydb.commit()\n",
    "table7=cursor.fetchall()\n",
    "\n",
    "top_transaction=pd.DataFrame(table7, columns=(\"states\",\"years\",\"Quarter\",\"Pincodes\"\n",
    "                                              ,\"Transaction_count\",\"Transaction_Amount\"))"
   ]
  },
  {
   "cell_type": "code",
   "execution_count": 10,
   "metadata": {},
   "outputs": [],
   "source": [
    "mydb=mysql.connector.connect(host='localhost', user='root', password='srinidhi@123',database='phonepe')\n",
    "cursor=mydb.cursor()\n",
    "\n",
    "\n",
    "#top_user_table\n",
    "\n",
    "cursor.execute(\"select * from top_user\")\n",
    "#mydb.commit()\n",
    "table8=cursor.fetchall()\n",
    "\n",
    "top_user=pd.DataFrame(table8, columns=(\"states\",\"years\",\"Quarter\",\"Pincodes\"\n",
    "                                              ,\"RegisteredUsers\"))"
   ]
  },
  {
   "cell_type": "code",
   "execution_count": 11,
   "metadata": {},
   "outputs": [
    {
     "data": {
      "text/html": [
       "<div>\n",
       "<style scoped>\n",
       "    .dataframe tbody tr th:only-of-type {\n",
       "        vertical-align: middle;\n",
       "    }\n",
       "\n",
       "    .dataframe tbody tr th {\n",
       "        vertical-align: top;\n",
       "    }\n",
       "\n",
       "    .dataframe thead th {\n",
       "        text-align: right;\n",
       "    }\n",
       "</style>\n",
       "<table border=\"1\" class=\"dataframe\">\n",
       "  <thead>\n",
       "    <tr style=\"text-align: right;\">\n",
       "      <th></th>\n",
       "      <th>states</th>\n",
       "      <th>years</th>\n",
       "      <th>Quarter</th>\n",
       "      <th>Pincodes</th>\n",
       "      <th>RegisteredUsers</th>\n",
       "    </tr>\n",
       "  </thead>\n",
       "  <tbody>\n",
       "    <tr>\n",
       "      <th>0</th>\n",
       "      <td>Andaman &amp; Nicobar</td>\n",
       "      <td>2018</td>\n",
       "      <td>1</td>\n",
       "      <td>744103</td>\n",
       "      <td>1608</td>\n",
       "    </tr>\n",
       "    <tr>\n",
       "      <th>1</th>\n",
       "      <td>Andaman &amp; Nicobar</td>\n",
       "      <td>2018</td>\n",
       "      <td>1</td>\n",
       "      <td>744101</td>\n",
       "      <td>1108</td>\n",
       "    </tr>\n",
       "    <tr>\n",
       "      <th>2</th>\n",
       "      <td>Andaman &amp; Nicobar</td>\n",
       "      <td>2018</td>\n",
       "      <td>1</td>\n",
       "      <td>744105</td>\n",
       "      <td>1075</td>\n",
       "    </tr>\n",
       "    <tr>\n",
       "      <th>3</th>\n",
       "      <td>Andaman &amp; Nicobar</td>\n",
       "      <td>2018</td>\n",
       "      <td>1</td>\n",
       "      <td>744102</td>\n",
       "      <td>1006</td>\n",
       "    </tr>\n",
       "    <tr>\n",
       "      <th>4</th>\n",
       "      <td>Andaman &amp; Nicobar</td>\n",
       "      <td>2018</td>\n",
       "      <td>1</td>\n",
       "      <td>744104</td>\n",
       "      <td>272</td>\n",
       "    </tr>\n",
       "    <tr>\n",
       "      <th>...</th>\n",
       "      <td>...</td>\n",
       "      <td>...</td>\n",
       "      <td>...</td>\n",
       "      <td>...</td>\n",
       "      <td>...</td>\n",
       "    </tr>\n",
       "    <tr>\n",
       "      <th>232045</th>\n",
       "      <td>West Bengal</td>\n",
       "      <td>2024</td>\n",
       "      <td>1</td>\n",
       "      <td>700015</td>\n",
       "      <td>131676</td>\n",
       "    </tr>\n",
       "    <tr>\n",
       "      <th>232046</th>\n",
       "      <td>West Bengal</td>\n",
       "      <td>2024</td>\n",
       "      <td>1</td>\n",
       "      <td>742304</td>\n",
       "      <td>127917</td>\n",
       "    </tr>\n",
       "    <tr>\n",
       "      <th>232047</th>\n",
       "      <td>West Bengal</td>\n",
       "      <td>2024</td>\n",
       "      <td>1</td>\n",
       "      <td>721101</td>\n",
       "      <td>127891</td>\n",
       "    </tr>\n",
       "    <tr>\n",
       "      <th>232048</th>\n",
       "      <td>West Bengal</td>\n",
       "      <td>2024</td>\n",
       "      <td>1</td>\n",
       "      <td>700150</td>\n",
       "      <td>123919</td>\n",
       "    </tr>\n",
       "    <tr>\n",
       "      <th>232049</th>\n",
       "      <td>West Bengal</td>\n",
       "      <td>2024</td>\n",
       "      <td>1</td>\n",
       "      <td>700091</td>\n",
       "      <td>122985</td>\n",
       "    </tr>\n",
       "  </tbody>\n",
       "</table>\n",
       "<p>232050 rows × 5 columns</p>\n",
       "</div>"
      ],
      "text/plain": [
       "                   states  years  Quarter  Pincodes  RegisteredUsers\n",
       "0       Andaman & Nicobar   2018        1    744103             1608\n",
       "1       Andaman & Nicobar   2018        1    744101             1108\n",
       "2       Andaman & Nicobar   2018        1    744105             1075\n",
       "3       Andaman & Nicobar   2018        1    744102             1006\n",
       "4       Andaman & Nicobar   2018        1    744104              272\n",
       "...                   ...    ...      ...       ...              ...\n",
       "232045        West Bengal   2024        1    700015           131676\n",
       "232046        West Bengal   2024        1    742304           127917\n",
       "232047        West Bengal   2024        1    721101           127891\n",
       "232048        West Bengal   2024        1    700150           123919\n",
       "232049        West Bengal   2024        1    700091           122985\n",
       "\n",
       "[232050 rows x 5 columns]"
      ]
     },
     "execution_count": 11,
     "metadata": {},
     "output_type": "execute_result"
    }
   ],
   "source": [
    "top_user"
   ]
  },
  {
   "cell_type": "code",
   "execution_count": 12,
   "metadata": {},
   "outputs": [],
   "source": [
    "def top_chart_transaction_amount(table_name):\n",
    "\n",
    "    mydb=mysql.connector.connect(host='localhost', user='root', password='srinidhi@123',database='phonepe')\n",
    "    cursor=mydb.cursor()\n",
    "    #plot_1\n",
    "\n",
    "    query1=f'''select states, sum(Transaction_Amount) as Transaction_Amount\n",
    "                from {table_name}\n",
    "                GROUP BY  states\n",
    "                ORDER BY Transaction_Amount DESC\n",
    "                LIMIT 10;'''\n",
    "\n",
    "    cursor.execute(query1)\n",
    "\n",
    "    table1=cursor.fetchall()\n",
    "    mydb.commit()\n",
    "\n",
    "    df_1=pd.DataFrame(table1, columns=(\"states\", \"Transaction_Amount\"))\n",
    "    df_1\n",
    "\n",
    "    fig_amount_1= px.bar(df_1, x=\"states\", y=\"Transaction_Amount\", title= \"TRANSACTION AMOUNT\", hover_name=\"states\",\n",
    "                        color_discrete_sequence= px.colors.sequential.Agsunset,height=600,width=600)\n",
    "    fig_amount_1.show()\n",
    "\n",
    "\n",
    "    #plot_2\n",
    "\n",
    "    query2=f'''select states, sum(Transaction_Amount) as Transaction_Amount\n",
    "                from {table_name}\n",
    "                GROUP BY  states\n",
    "                ORDER BY Transaction_Amount\n",
    "                LIMIT 10;'''\n",
    "\n",
    "    cursor.execute(query2)\n",
    "\n",
    "    table2=cursor.fetchall()\n",
    "    mydb.commit()\n",
    "\n",
    "    df_2=pd.DataFrame(table2, columns=(\"states\", \"Transaction_Amount\"))\n",
    "\n",
    "    fig_amount_2= px.bar(df_2, x=\"states\", y=\"Transaction_Amount\", title= \"TRANSACTION AMOUNT\", hover_name=\"states\",\n",
    "                        color_discrete_sequence= px.colors.sequential.Agsunset,height=600,width=600)\n",
    "    fig_amount_2.show()\n",
    "\n",
    "\n",
    "\n",
    "    #plot_3\n",
    "\n",
    "    query3=f'''select states, AVG(Transaction_Amount) as Transaction_Amount\n",
    "                from {table_name}\n",
    "                GROUP BY  states\n",
    "                ORDER BY Transaction_Amount;'''\n",
    "\n",
    "    cursor.execute(query3)\n",
    "\n",
    "    table3=cursor.fetchall()\n",
    "    mydb.commit()\n",
    "\n",
    "    df_3=pd.DataFrame(table3, columns=(\"states\", \"Transaction_Amount\"))\n",
    "\n",
    "    fig_amount_3= px.bar(df_3, x=\"Transaction_Amount\", y=\"states\", title= \"TRANSACTION AMOUNT\", hover_name=\"states\", orientation=\"h\",\n",
    "                        color_discrete_sequence= px.colors.sequential.Agsunset,height=600,width=600)\n",
    "    fig_amount_3.show()\n",
    "\n",
    "\n"
   ]
  },
  {
   "cell_type": "code",
   "execution_count": 13,
   "metadata": {},
   "outputs": [
    {
     "data": {
      "application/vnd.plotly.v1+json": {
       "config": {
        "plotlyServerURL": "https://plot.ly"
       },
       "data": [
        {
         "alignmentgroup": "True",
         "hovertemplate": "<b>%{hovertext}</b><br><br>states=%{x}<br>Transaction_Amount=%{y}<extra></extra>",
         "hovertext": [
          "Telangana",
          "Maharashtra",
          "Karnataka",
          "Andhra Pradesh",
          "Rajasthan",
          "Uttar Pradesh",
          "Madhya Pradesh",
          "Bihar",
          "West Bengal",
          "Tamil Nadu"
         ],
         "legendgroup": "",
         "marker": {
          "color": "rgb(75, 41, 145)",
          "pattern": {
           "shape": ""
          }
         },
         "name": "",
         "offsetgroup": "",
         "orientation": "v",
         "showlegend": false,
         "textposition": "auto",
         "type": "bar",
         "x": [
          "Telangana",
          "Maharashtra",
          "Karnataka",
          "Andhra Pradesh",
          "Rajasthan",
          "Uttar Pradesh",
          "Madhya Pradesh",
          "Bihar",
          "West Bengal",
          "Tamil Nadu"
         ],
         "xaxis": "x",
         "y": [
          708033050749273,
          666142312551165,
          663197288098160,
          570595427741038,
          427359180643621,
          419736363234243,
          312367874873529,
          279111781106514,
          244238763690807,
          202691074254211
         ],
         "yaxis": "y"
        }
       ],
       "layout": {
        "barmode": "relative",
        "height": 600,
        "legend": {
         "tracegroupgap": 0
        },
        "template": {
         "data": {
          "bar": [
           {
            "error_x": {
             "color": "#2a3f5f"
            },
            "error_y": {
             "color": "#2a3f5f"
            },
            "marker": {
             "line": {
              "color": "#E5ECF6",
              "width": 0.5
             },
             "pattern": {
              "fillmode": "overlay",
              "size": 10,
              "solidity": 0.2
             }
            },
            "type": "bar"
           }
          ],
          "barpolar": [
           {
            "marker": {
             "line": {
              "color": "#E5ECF6",
              "width": 0.5
             },
             "pattern": {
              "fillmode": "overlay",
              "size": 10,
              "solidity": 0.2
             }
            },
            "type": "barpolar"
           }
          ],
          "carpet": [
           {
            "aaxis": {
             "endlinecolor": "#2a3f5f",
             "gridcolor": "white",
             "linecolor": "white",
             "minorgridcolor": "white",
             "startlinecolor": "#2a3f5f"
            },
            "baxis": {
             "endlinecolor": "#2a3f5f",
             "gridcolor": "white",
             "linecolor": "white",
             "minorgridcolor": "white",
             "startlinecolor": "#2a3f5f"
            },
            "type": "carpet"
           }
          ],
          "choropleth": [
           {
            "colorbar": {
             "outlinewidth": 0,
             "ticks": ""
            },
            "type": "choropleth"
           }
          ],
          "contour": [
           {
            "colorbar": {
             "outlinewidth": 0,
             "ticks": ""
            },
            "colorscale": [
             [
              0,
              "#0d0887"
             ],
             [
              0.1111111111111111,
              "#46039f"
             ],
             [
              0.2222222222222222,
              "#7201a8"
             ],
             [
              0.3333333333333333,
              "#9c179e"
             ],
             [
              0.4444444444444444,
              "#bd3786"
             ],
             [
              0.5555555555555556,
              "#d8576b"
             ],
             [
              0.6666666666666666,
              "#ed7953"
             ],
             [
              0.7777777777777778,
              "#fb9f3a"
             ],
             [
              0.8888888888888888,
              "#fdca26"
             ],
             [
              1,
              "#f0f921"
             ]
            ],
            "type": "contour"
           }
          ],
          "contourcarpet": [
           {
            "colorbar": {
             "outlinewidth": 0,
             "ticks": ""
            },
            "type": "contourcarpet"
           }
          ],
          "heatmap": [
           {
            "colorbar": {
             "outlinewidth": 0,
             "ticks": ""
            },
            "colorscale": [
             [
              0,
              "#0d0887"
             ],
             [
              0.1111111111111111,
              "#46039f"
             ],
             [
              0.2222222222222222,
              "#7201a8"
             ],
             [
              0.3333333333333333,
              "#9c179e"
             ],
             [
              0.4444444444444444,
              "#bd3786"
             ],
             [
              0.5555555555555556,
              "#d8576b"
             ],
             [
              0.6666666666666666,
              "#ed7953"
             ],
             [
              0.7777777777777778,
              "#fb9f3a"
             ],
             [
              0.8888888888888888,
              "#fdca26"
             ],
             [
              1,
              "#f0f921"
             ]
            ],
            "type": "heatmap"
           }
          ],
          "heatmapgl": [
           {
            "colorbar": {
             "outlinewidth": 0,
             "ticks": ""
            },
            "colorscale": [
             [
              0,
              "#0d0887"
             ],
             [
              0.1111111111111111,
              "#46039f"
             ],
             [
              0.2222222222222222,
              "#7201a8"
             ],
             [
              0.3333333333333333,
              "#9c179e"
             ],
             [
              0.4444444444444444,
              "#bd3786"
             ],
             [
              0.5555555555555556,
              "#d8576b"
             ],
             [
              0.6666666666666666,
              "#ed7953"
             ],
             [
              0.7777777777777778,
              "#fb9f3a"
             ],
             [
              0.8888888888888888,
              "#fdca26"
             ],
             [
              1,
              "#f0f921"
             ]
            ],
            "type": "heatmapgl"
           }
          ],
          "histogram": [
           {
            "marker": {
             "pattern": {
              "fillmode": "overlay",
              "size": 10,
              "solidity": 0.2
             }
            },
            "type": "histogram"
           }
          ],
          "histogram2d": [
           {
            "colorbar": {
             "outlinewidth": 0,
             "ticks": ""
            },
            "colorscale": [
             [
              0,
              "#0d0887"
             ],
             [
              0.1111111111111111,
              "#46039f"
             ],
             [
              0.2222222222222222,
              "#7201a8"
             ],
             [
              0.3333333333333333,
              "#9c179e"
             ],
             [
              0.4444444444444444,
              "#bd3786"
             ],
             [
              0.5555555555555556,
              "#d8576b"
             ],
             [
              0.6666666666666666,
              "#ed7953"
             ],
             [
              0.7777777777777778,
              "#fb9f3a"
             ],
             [
              0.8888888888888888,
              "#fdca26"
             ],
             [
              1,
              "#f0f921"
             ]
            ],
            "type": "histogram2d"
           }
          ],
          "histogram2dcontour": [
           {
            "colorbar": {
             "outlinewidth": 0,
             "ticks": ""
            },
            "colorscale": [
             [
              0,
              "#0d0887"
             ],
             [
              0.1111111111111111,
              "#46039f"
             ],
             [
              0.2222222222222222,
              "#7201a8"
             ],
             [
              0.3333333333333333,
              "#9c179e"
             ],
             [
              0.4444444444444444,
              "#bd3786"
             ],
             [
              0.5555555555555556,
              "#d8576b"
             ],
             [
              0.6666666666666666,
              "#ed7953"
             ],
             [
              0.7777777777777778,
              "#fb9f3a"
             ],
             [
              0.8888888888888888,
              "#fdca26"
             ],
             [
              1,
              "#f0f921"
             ]
            ],
            "type": "histogram2dcontour"
           }
          ],
          "mesh3d": [
           {
            "colorbar": {
             "outlinewidth": 0,
             "ticks": ""
            },
            "type": "mesh3d"
           }
          ],
          "parcoords": [
           {
            "line": {
             "colorbar": {
              "outlinewidth": 0,
              "ticks": ""
             }
            },
            "type": "parcoords"
           }
          ],
          "pie": [
           {
            "automargin": true,
            "type": "pie"
           }
          ],
          "scatter": [
           {
            "fillpattern": {
             "fillmode": "overlay",
             "size": 10,
             "solidity": 0.2
            },
            "type": "scatter"
           }
          ],
          "scatter3d": [
           {
            "line": {
             "colorbar": {
              "outlinewidth": 0,
              "ticks": ""
             }
            },
            "marker": {
             "colorbar": {
              "outlinewidth": 0,
              "ticks": ""
             }
            },
            "type": "scatter3d"
           }
          ],
          "scattercarpet": [
           {
            "marker": {
             "colorbar": {
              "outlinewidth": 0,
              "ticks": ""
             }
            },
            "type": "scattercarpet"
           }
          ],
          "scattergeo": [
           {
            "marker": {
             "colorbar": {
              "outlinewidth": 0,
              "ticks": ""
             }
            },
            "type": "scattergeo"
           }
          ],
          "scattergl": [
           {
            "marker": {
             "colorbar": {
              "outlinewidth": 0,
              "ticks": ""
             }
            },
            "type": "scattergl"
           }
          ],
          "scattermapbox": [
           {
            "marker": {
             "colorbar": {
              "outlinewidth": 0,
              "ticks": ""
             }
            },
            "type": "scattermapbox"
           }
          ],
          "scatterpolar": [
           {
            "marker": {
             "colorbar": {
              "outlinewidth": 0,
              "ticks": ""
             }
            },
            "type": "scatterpolar"
           }
          ],
          "scatterpolargl": [
           {
            "marker": {
             "colorbar": {
              "outlinewidth": 0,
              "ticks": ""
             }
            },
            "type": "scatterpolargl"
           }
          ],
          "scatterternary": [
           {
            "marker": {
             "colorbar": {
              "outlinewidth": 0,
              "ticks": ""
             }
            },
            "type": "scatterternary"
           }
          ],
          "surface": [
           {
            "colorbar": {
             "outlinewidth": 0,
             "ticks": ""
            },
            "colorscale": [
             [
              0,
              "#0d0887"
             ],
             [
              0.1111111111111111,
              "#46039f"
             ],
             [
              0.2222222222222222,
              "#7201a8"
             ],
             [
              0.3333333333333333,
              "#9c179e"
             ],
             [
              0.4444444444444444,
              "#bd3786"
             ],
             [
              0.5555555555555556,
              "#d8576b"
             ],
             [
              0.6666666666666666,
              "#ed7953"
             ],
             [
              0.7777777777777778,
              "#fb9f3a"
             ],
             [
              0.8888888888888888,
              "#fdca26"
             ],
             [
              1,
              "#f0f921"
             ]
            ],
            "type": "surface"
           }
          ],
          "table": [
           {
            "cells": {
             "fill": {
              "color": "#EBF0F8"
             },
             "line": {
              "color": "white"
             }
            },
            "header": {
             "fill": {
              "color": "#C8D4E3"
             },
             "line": {
              "color": "white"
             }
            },
            "type": "table"
           }
          ]
         },
         "layout": {
          "annotationdefaults": {
           "arrowcolor": "#2a3f5f",
           "arrowhead": 0,
           "arrowwidth": 1
          },
          "autotypenumbers": "strict",
          "coloraxis": {
           "colorbar": {
            "outlinewidth": 0,
            "ticks": ""
           }
          },
          "colorscale": {
           "diverging": [
            [
             0,
             "#8e0152"
            ],
            [
             0.1,
             "#c51b7d"
            ],
            [
             0.2,
             "#de77ae"
            ],
            [
             0.3,
             "#f1b6da"
            ],
            [
             0.4,
             "#fde0ef"
            ],
            [
             0.5,
             "#f7f7f7"
            ],
            [
             0.6,
             "#e6f5d0"
            ],
            [
             0.7,
             "#b8e186"
            ],
            [
             0.8,
             "#7fbc41"
            ],
            [
             0.9,
             "#4d9221"
            ],
            [
             1,
             "#276419"
            ]
           ],
           "sequential": [
            [
             0,
             "#0d0887"
            ],
            [
             0.1111111111111111,
             "#46039f"
            ],
            [
             0.2222222222222222,
             "#7201a8"
            ],
            [
             0.3333333333333333,
             "#9c179e"
            ],
            [
             0.4444444444444444,
             "#bd3786"
            ],
            [
             0.5555555555555556,
             "#d8576b"
            ],
            [
             0.6666666666666666,
             "#ed7953"
            ],
            [
             0.7777777777777778,
             "#fb9f3a"
            ],
            [
             0.8888888888888888,
             "#fdca26"
            ],
            [
             1,
             "#f0f921"
            ]
           ],
           "sequentialminus": [
            [
             0,
             "#0d0887"
            ],
            [
             0.1111111111111111,
             "#46039f"
            ],
            [
             0.2222222222222222,
             "#7201a8"
            ],
            [
             0.3333333333333333,
             "#9c179e"
            ],
            [
             0.4444444444444444,
             "#bd3786"
            ],
            [
             0.5555555555555556,
             "#d8576b"
            ],
            [
             0.6666666666666666,
             "#ed7953"
            ],
            [
             0.7777777777777778,
             "#fb9f3a"
            ],
            [
             0.8888888888888888,
             "#fdca26"
            ],
            [
             1,
             "#f0f921"
            ]
           ]
          },
          "colorway": [
           "#636efa",
           "#EF553B",
           "#00cc96",
           "#ab63fa",
           "#FFA15A",
           "#19d3f3",
           "#FF6692",
           "#B6E880",
           "#FF97FF",
           "#FECB52"
          ],
          "font": {
           "color": "#2a3f5f"
          },
          "geo": {
           "bgcolor": "white",
           "lakecolor": "white",
           "landcolor": "#E5ECF6",
           "showlakes": true,
           "showland": true,
           "subunitcolor": "white"
          },
          "hoverlabel": {
           "align": "left"
          },
          "hovermode": "closest",
          "mapbox": {
           "style": "light"
          },
          "paper_bgcolor": "white",
          "plot_bgcolor": "#E5ECF6",
          "polar": {
           "angularaxis": {
            "gridcolor": "white",
            "linecolor": "white",
            "ticks": ""
           },
           "bgcolor": "#E5ECF6",
           "radialaxis": {
            "gridcolor": "white",
            "linecolor": "white",
            "ticks": ""
           }
          },
          "scene": {
           "xaxis": {
            "backgroundcolor": "#E5ECF6",
            "gridcolor": "white",
            "gridwidth": 2,
            "linecolor": "white",
            "showbackground": true,
            "ticks": "",
            "zerolinecolor": "white"
           },
           "yaxis": {
            "backgroundcolor": "#E5ECF6",
            "gridcolor": "white",
            "gridwidth": 2,
            "linecolor": "white",
            "showbackground": true,
            "ticks": "",
            "zerolinecolor": "white"
           },
           "zaxis": {
            "backgroundcolor": "#E5ECF6",
            "gridcolor": "white",
            "gridwidth": 2,
            "linecolor": "white",
            "showbackground": true,
            "ticks": "",
            "zerolinecolor": "white"
           }
          },
          "shapedefaults": {
           "line": {
            "color": "#2a3f5f"
           }
          },
          "ternary": {
           "aaxis": {
            "gridcolor": "white",
            "linecolor": "white",
            "ticks": ""
           },
           "baxis": {
            "gridcolor": "white",
            "linecolor": "white",
            "ticks": ""
           },
           "bgcolor": "#E5ECF6",
           "caxis": {
            "gridcolor": "white",
            "linecolor": "white",
            "ticks": ""
           }
          },
          "title": {
           "x": 0.05
          },
          "xaxis": {
           "automargin": true,
           "gridcolor": "white",
           "linecolor": "white",
           "ticks": "",
           "title": {
            "standoff": 15
           },
           "zerolinecolor": "white",
           "zerolinewidth": 2
          },
          "yaxis": {
           "automargin": true,
           "gridcolor": "white",
           "linecolor": "white",
           "ticks": "",
           "title": {
            "standoff": 15
           },
           "zerolinecolor": "white",
           "zerolinewidth": 2
          }
         }
        },
        "title": {
         "text": "TRANSACTION AMOUNT"
        },
        "width": 600,
        "xaxis": {
         "anchor": "y",
         "domain": [
          0,
          1
         ],
         "title": {
          "text": "states"
         }
        },
        "yaxis": {
         "anchor": "x",
         "domain": [
          0,
          1
         ],
         "title": {
          "text": "Transaction_Amount"
         }
        }
       }
      }
     },
     "metadata": {},
     "output_type": "display_data"
    },
    {
     "data": {
      "application/vnd.plotly.v1+json": {
       "config": {
        "plotlyServerURL": "https://plot.ly"
       },
       "data": [
        {
         "alignmentgroup": "True",
         "hovertemplate": "<b>%{hovertext}</b><br><br>states=%{x}<br>Transaction_Amount=%{y}<extra></extra>",
         "hovertext": [
          "Lakshadweep",
          "Mizoram",
          "Andaman & Nicobar",
          "Ladakh",
          "Sikkim",
          "Nagaland",
          "Meghalaya",
          "Dadra and  Nagar Haveli and Daman and Diu",
          "Tripura",
          "Manipur"
         ],
         "legendgroup": "",
         "marker": {
          "color": "rgb(75, 41, 145)",
          "pattern": {
           "shape": ""
          }
         },
         "name": "",
         "offsetgroup": "",
         "orientation": "v",
         "showlegend": false,
         "textposition": "auto",
         "type": "bar",
         "x": [
          "Lakshadweep",
          "Mizoram",
          "Andaman & Nicobar",
          "Ladakh",
          "Sikkim",
          "Nagaland",
          "Meghalaya",
          "Dadra and  Nagar Haveli and Daman and Diu",
          "Tripura",
          "Manipur"
         ],
         "xaxis": "x",
         "y": [
          23527692956,
          780127216122,
          1076098309943,
          1273317015809,
          1942072926383,
          2141421090745,
          2524972268655,
          3125263263442,
          3222006195677,
          3487591403573
         ],
         "yaxis": "y"
        }
       ],
       "layout": {
        "barmode": "relative",
        "height": 600,
        "legend": {
         "tracegroupgap": 0
        },
        "template": {
         "data": {
          "bar": [
           {
            "error_x": {
             "color": "#2a3f5f"
            },
            "error_y": {
             "color": "#2a3f5f"
            },
            "marker": {
             "line": {
              "color": "#E5ECF6",
              "width": 0.5
             },
             "pattern": {
              "fillmode": "overlay",
              "size": 10,
              "solidity": 0.2
             }
            },
            "type": "bar"
           }
          ],
          "barpolar": [
           {
            "marker": {
             "line": {
              "color": "#E5ECF6",
              "width": 0.5
             },
             "pattern": {
              "fillmode": "overlay",
              "size": 10,
              "solidity": 0.2
             }
            },
            "type": "barpolar"
           }
          ],
          "carpet": [
           {
            "aaxis": {
             "endlinecolor": "#2a3f5f",
             "gridcolor": "white",
             "linecolor": "white",
             "minorgridcolor": "white",
             "startlinecolor": "#2a3f5f"
            },
            "baxis": {
             "endlinecolor": "#2a3f5f",
             "gridcolor": "white",
             "linecolor": "white",
             "minorgridcolor": "white",
             "startlinecolor": "#2a3f5f"
            },
            "type": "carpet"
           }
          ],
          "choropleth": [
           {
            "colorbar": {
             "outlinewidth": 0,
             "ticks": ""
            },
            "type": "choropleth"
           }
          ],
          "contour": [
           {
            "colorbar": {
             "outlinewidth": 0,
             "ticks": ""
            },
            "colorscale": [
             [
              0,
              "#0d0887"
             ],
             [
              0.1111111111111111,
              "#46039f"
             ],
             [
              0.2222222222222222,
              "#7201a8"
             ],
             [
              0.3333333333333333,
              "#9c179e"
             ],
             [
              0.4444444444444444,
              "#bd3786"
             ],
             [
              0.5555555555555556,
              "#d8576b"
             ],
             [
              0.6666666666666666,
              "#ed7953"
             ],
             [
              0.7777777777777778,
              "#fb9f3a"
             ],
             [
              0.8888888888888888,
              "#fdca26"
             ],
             [
              1,
              "#f0f921"
             ]
            ],
            "type": "contour"
           }
          ],
          "contourcarpet": [
           {
            "colorbar": {
             "outlinewidth": 0,
             "ticks": ""
            },
            "type": "contourcarpet"
           }
          ],
          "heatmap": [
           {
            "colorbar": {
             "outlinewidth": 0,
             "ticks": ""
            },
            "colorscale": [
             [
              0,
              "#0d0887"
             ],
             [
              0.1111111111111111,
              "#46039f"
             ],
             [
              0.2222222222222222,
              "#7201a8"
             ],
             [
              0.3333333333333333,
              "#9c179e"
             ],
             [
              0.4444444444444444,
              "#bd3786"
             ],
             [
              0.5555555555555556,
              "#d8576b"
             ],
             [
              0.6666666666666666,
              "#ed7953"
             ],
             [
              0.7777777777777778,
              "#fb9f3a"
             ],
             [
              0.8888888888888888,
              "#fdca26"
             ],
             [
              1,
              "#f0f921"
             ]
            ],
            "type": "heatmap"
           }
          ],
          "heatmapgl": [
           {
            "colorbar": {
             "outlinewidth": 0,
             "ticks": ""
            },
            "colorscale": [
             [
              0,
              "#0d0887"
             ],
             [
              0.1111111111111111,
              "#46039f"
             ],
             [
              0.2222222222222222,
              "#7201a8"
             ],
             [
              0.3333333333333333,
              "#9c179e"
             ],
             [
              0.4444444444444444,
              "#bd3786"
             ],
             [
              0.5555555555555556,
              "#d8576b"
             ],
             [
              0.6666666666666666,
              "#ed7953"
             ],
             [
              0.7777777777777778,
              "#fb9f3a"
             ],
             [
              0.8888888888888888,
              "#fdca26"
             ],
             [
              1,
              "#f0f921"
             ]
            ],
            "type": "heatmapgl"
           }
          ],
          "histogram": [
           {
            "marker": {
             "pattern": {
              "fillmode": "overlay",
              "size": 10,
              "solidity": 0.2
             }
            },
            "type": "histogram"
           }
          ],
          "histogram2d": [
           {
            "colorbar": {
             "outlinewidth": 0,
             "ticks": ""
            },
            "colorscale": [
             [
              0,
              "#0d0887"
             ],
             [
              0.1111111111111111,
              "#46039f"
             ],
             [
              0.2222222222222222,
              "#7201a8"
             ],
             [
              0.3333333333333333,
              "#9c179e"
             ],
             [
              0.4444444444444444,
              "#bd3786"
             ],
             [
              0.5555555555555556,
              "#d8576b"
             ],
             [
              0.6666666666666666,
              "#ed7953"
             ],
             [
              0.7777777777777778,
              "#fb9f3a"
             ],
             [
              0.8888888888888888,
              "#fdca26"
             ],
             [
              1,
              "#f0f921"
             ]
            ],
            "type": "histogram2d"
           }
          ],
          "histogram2dcontour": [
           {
            "colorbar": {
             "outlinewidth": 0,
             "ticks": ""
            },
            "colorscale": [
             [
              0,
              "#0d0887"
             ],
             [
              0.1111111111111111,
              "#46039f"
             ],
             [
              0.2222222222222222,
              "#7201a8"
             ],
             [
              0.3333333333333333,
              "#9c179e"
             ],
             [
              0.4444444444444444,
              "#bd3786"
             ],
             [
              0.5555555555555556,
              "#d8576b"
             ],
             [
              0.6666666666666666,
              "#ed7953"
             ],
             [
              0.7777777777777778,
              "#fb9f3a"
             ],
             [
              0.8888888888888888,
              "#fdca26"
             ],
             [
              1,
              "#f0f921"
             ]
            ],
            "type": "histogram2dcontour"
           }
          ],
          "mesh3d": [
           {
            "colorbar": {
             "outlinewidth": 0,
             "ticks": ""
            },
            "type": "mesh3d"
           }
          ],
          "parcoords": [
           {
            "line": {
             "colorbar": {
              "outlinewidth": 0,
              "ticks": ""
             }
            },
            "type": "parcoords"
           }
          ],
          "pie": [
           {
            "automargin": true,
            "type": "pie"
           }
          ],
          "scatter": [
           {
            "fillpattern": {
             "fillmode": "overlay",
             "size": 10,
             "solidity": 0.2
            },
            "type": "scatter"
           }
          ],
          "scatter3d": [
           {
            "line": {
             "colorbar": {
              "outlinewidth": 0,
              "ticks": ""
             }
            },
            "marker": {
             "colorbar": {
              "outlinewidth": 0,
              "ticks": ""
             }
            },
            "type": "scatter3d"
           }
          ],
          "scattercarpet": [
           {
            "marker": {
             "colorbar": {
              "outlinewidth": 0,
              "ticks": ""
             }
            },
            "type": "scattercarpet"
           }
          ],
          "scattergeo": [
           {
            "marker": {
             "colorbar": {
              "outlinewidth": 0,
              "ticks": ""
             }
            },
            "type": "scattergeo"
           }
          ],
          "scattergl": [
           {
            "marker": {
             "colorbar": {
              "outlinewidth": 0,
              "ticks": ""
             }
            },
            "type": "scattergl"
           }
          ],
          "scattermapbox": [
           {
            "marker": {
             "colorbar": {
              "outlinewidth": 0,
              "ticks": ""
             }
            },
            "type": "scattermapbox"
           }
          ],
          "scatterpolar": [
           {
            "marker": {
             "colorbar": {
              "outlinewidth": 0,
              "ticks": ""
             }
            },
            "type": "scatterpolar"
           }
          ],
          "scatterpolargl": [
           {
            "marker": {
             "colorbar": {
              "outlinewidth": 0,
              "ticks": ""
             }
            },
            "type": "scatterpolargl"
           }
          ],
          "scatterternary": [
           {
            "marker": {
             "colorbar": {
              "outlinewidth": 0,
              "ticks": ""
             }
            },
            "type": "scatterternary"
           }
          ],
          "surface": [
           {
            "colorbar": {
             "outlinewidth": 0,
             "ticks": ""
            },
            "colorscale": [
             [
              0,
              "#0d0887"
             ],
             [
              0.1111111111111111,
              "#46039f"
             ],
             [
              0.2222222222222222,
              "#7201a8"
             ],
             [
              0.3333333333333333,
              "#9c179e"
             ],
             [
              0.4444444444444444,
              "#bd3786"
             ],
             [
              0.5555555555555556,
              "#d8576b"
             ],
             [
              0.6666666666666666,
              "#ed7953"
             ],
             [
              0.7777777777777778,
              "#fb9f3a"
             ],
             [
              0.8888888888888888,
              "#fdca26"
             ],
             [
              1,
              "#f0f921"
             ]
            ],
            "type": "surface"
           }
          ],
          "table": [
           {
            "cells": {
             "fill": {
              "color": "#EBF0F8"
             },
             "line": {
              "color": "white"
             }
            },
            "header": {
             "fill": {
              "color": "#C8D4E3"
             },
             "line": {
              "color": "white"
             }
            },
            "type": "table"
           }
          ]
         },
         "layout": {
          "annotationdefaults": {
           "arrowcolor": "#2a3f5f",
           "arrowhead": 0,
           "arrowwidth": 1
          },
          "autotypenumbers": "strict",
          "coloraxis": {
           "colorbar": {
            "outlinewidth": 0,
            "ticks": ""
           }
          },
          "colorscale": {
           "diverging": [
            [
             0,
             "#8e0152"
            ],
            [
             0.1,
             "#c51b7d"
            ],
            [
             0.2,
             "#de77ae"
            ],
            [
             0.3,
             "#f1b6da"
            ],
            [
             0.4,
             "#fde0ef"
            ],
            [
             0.5,
             "#f7f7f7"
            ],
            [
             0.6,
             "#e6f5d0"
            ],
            [
             0.7,
             "#b8e186"
            ],
            [
             0.8,
             "#7fbc41"
            ],
            [
             0.9,
             "#4d9221"
            ],
            [
             1,
             "#276419"
            ]
           ],
           "sequential": [
            [
             0,
             "#0d0887"
            ],
            [
             0.1111111111111111,
             "#46039f"
            ],
            [
             0.2222222222222222,
             "#7201a8"
            ],
            [
             0.3333333333333333,
             "#9c179e"
            ],
            [
             0.4444444444444444,
             "#bd3786"
            ],
            [
             0.5555555555555556,
             "#d8576b"
            ],
            [
             0.6666666666666666,
             "#ed7953"
            ],
            [
             0.7777777777777778,
             "#fb9f3a"
            ],
            [
             0.8888888888888888,
             "#fdca26"
            ],
            [
             1,
             "#f0f921"
            ]
           ],
           "sequentialminus": [
            [
             0,
             "#0d0887"
            ],
            [
             0.1111111111111111,
             "#46039f"
            ],
            [
             0.2222222222222222,
             "#7201a8"
            ],
            [
             0.3333333333333333,
             "#9c179e"
            ],
            [
             0.4444444444444444,
             "#bd3786"
            ],
            [
             0.5555555555555556,
             "#d8576b"
            ],
            [
             0.6666666666666666,
             "#ed7953"
            ],
            [
             0.7777777777777778,
             "#fb9f3a"
            ],
            [
             0.8888888888888888,
             "#fdca26"
            ],
            [
             1,
             "#f0f921"
            ]
           ]
          },
          "colorway": [
           "#636efa",
           "#EF553B",
           "#00cc96",
           "#ab63fa",
           "#FFA15A",
           "#19d3f3",
           "#FF6692",
           "#B6E880",
           "#FF97FF",
           "#FECB52"
          ],
          "font": {
           "color": "#2a3f5f"
          },
          "geo": {
           "bgcolor": "white",
           "lakecolor": "white",
           "landcolor": "#E5ECF6",
           "showlakes": true,
           "showland": true,
           "subunitcolor": "white"
          },
          "hoverlabel": {
           "align": "left"
          },
          "hovermode": "closest",
          "mapbox": {
           "style": "light"
          },
          "paper_bgcolor": "white",
          "plot_bgcolor": "#E5ECF6",
          "polar": {
           "angularaxis": {
            "gridcolor": "white",
            "linecolor": "white",
            "ticks": ""
           },
           "bgcolor": "#E5ECF6",
           "radialaxis": {
            "gridcolor": "white",
            "linecolor": "white",
            "ticks": ""
           }
          },
          "scene": {
           "xaxis": {
            "backgroundcolor": "#E5ECF6",
            "gridcolor": "white",
            "gridwidth": 2,
            "linecolor": "white",
            "showbackground": true,
            "ticks": "",
            "zerolinecolor": "white"
           },
           "yaxis": {
            "backgroundcolor": "#E5ECF6",
            "gridcolor": "white",
            "gridwidth": 2,
            "linecolor": "white",
            "showbackground": true,
            "ticks": "",
            "zerolinecolor": "white"
           },
           "zaxis": {
            "backgroundcolor": "#E5ECF6",
            "gridcolor": "white",
            "gridwidth": 2,
            "linecolor": "white",
            "showbackground": true,
            "ticks": "",
            "zerolinecolor": "white"
           }
          },
          "shapedefaults": {
           "line": {
            "color": "#2a3f5f"
           }
          },
          "ternary": {
           "aaxis": {
            "gridcolor": "white",
            "linecolor": "white",
            "ticks": ""
           },
           "baxis": {
            "gridcolor": "white",
            "linecolor": "white",
            "ticks": ""
           },
           "bgcolor": "#E5ECF6",
           "caxis": {
            "gridcolor": "white",
            "linecolor": "white",
            "ticks": ""
           }
          },
          "title": {
           "x": 0.05
          },
          "xaxis": {
           "automargin": true,
           "gridcolor": "white",
           "linecolor": "white",
           "ticks": "",
           "title": {
            "standoff": 15
           },
           "zerolinecolor": "white",
           "zerolinewidth": 2
          },
          "yaxis": {
           "automargin": true,
           "gridcolor": "white",
           "linecolor": "white",
           "ticks": "",
           "title": {
            "standoff": 15
           },
           "zerolinecolor": "white",
           "zerolinewidth": 2
          }
         }
        },
        "title": {
         "text": "TRANSACTION AMOUNT"
        },
        "width": 600,
        "xaxis": {
         "anchor": "y",
         "domain": [
          0,
          1
         ],
         "title": {
          "text": "states"
         }
        },
        "yaxis": {
         "anchor": "x",
         "domain": [
          0,
          1
         ],
         "title": {
          "text": "Transaction_Amount"
         }
        }
       }
      }
     },
     "metadata": {},
     "output_type": "display_data"
    },
    {
     "data": {
      "application/vnd.plotly.v1+json": {
       "config": {
        "plotlyServerURL": "https://plot.ly"
       },
       "data": [
        {
         "alignmentgroup": "True",
         "hovertemplate": "<b>%{hovertext}</b><br><br>Transaction_Amount=%{x}<br>states=%{y}<extra></extra>",
         "hovertext": [
          "Lakshadweep",
          "Mizoram",
          "Andaman & Nicobar",
          "Ladakh",
          "Sikkim",
          "Nagaland",
          "Meghalaya",
          "Dadra and  Nagar Haveli and Daman and Diu",
          "Tripura",
          "Manipur",
          "Arunachal Pradesh",
          "Puducherry",
          "Chandigarh",
          "Goa",
          "Himachal Pradesh",
          "Jammu & Kashmir",
          "Uttarakhand",
          "Punjab",
          "Kerala",
          "Assam",
          "Chhattisgarh",
          "Jharkhand",
          "Haryana",
          "Gujarat",
          "Odisha",
          "Delhi",
          "Tamil Nadu",
          "West Bengal",
          "Bihar",
          "Madhya Pradesh",
          "Uttar Pradesh",
          "Rajasthan",
          "Andhra Pradesh",
          "Karnataka",
          "Maharashtra",
          "Telangana"
         ],
         "legendgroup": "",
         "marker": {
          "color": "rgb(75, 41, 145)",
          "pattern": {
           "shape": ""
          }
         },
         "name": "",
         "offsetgroup": "",
         "orientation": "h",
         "showlegend": false,
         "textposition": "auto",
         "type": "bar",
         "x": [
          8596161.1092,
          271348596.912,
          374295064.328,
          442892875.064,
          675503626.568,
          744842118.52,
          878251223.88,
          1087048091.632,
          1120697807.192,
          1213075270.808,
          1424374043.528,
          1436597341.84,
          1884712326.384,
          2888721705.104,
          4058677441.728,
          6001600751.656,
          10940415981.704,
          17547207715.048,
          18418586717.288,
          19193110170.2,
          26559762453.504,
          31780881212.36,
          54275407408.536,
          57941719093.336,
          68931609837.224,
          69802709626.312,
          70501243218.856,
          84952613457.672,
          97082358645.744,
          108649695608.184,
          145995256777.128,
          148646671528.216,
          198467974866.448,
          230677317599.36,
          231701673930.84,
          246272365478.008
         ],
         "xaxis": "x",
         "y": [
          "Lakshadweep",
          "Mizoram",
          "Andaman & Nicobar",
          "Ladakh",
          "Sikkim",
          "Nagaland",
          "Meghalaya",
          "Dadra and  Nagar Haveli and Daman and Diu",
          "Tripura",
          "Manipur",
          "Arunachal Pradesh",
          "Puducherry",
          "Chandigarh",
          "Goa",
          "Himachal Pradesh",
          "Jammu & Kashmir",
          "Uttarakhand",
          "Punjab",
          "Kerala",
          "Assam",
          "Chhattisgarh",
          "Jharkhand",
          "Haryana",
          "Gujarat",
          "Odisha",
          "Delhi",
          "Tamil Nadu",
          "West Bengal",
          "Bihar",
          "Madhya Pradesh",
          "Uttar Pradesh",
          "Rajasthan",
          "Andhra Pradesh",
          "Karnataka",
          "Maharashtra",
          "Telangana"
         ],
         "yaxis": "y"
        }
       ],
       "layout": {
        "barmode": "relative",
        "height": 600,
        "legend": {
         "tracegroupgap": 0
        },
        "template": {
         "data": {
          "bar": [
           {
            "error_x": {
             "color": "#2a3f5f"
            },
            "error_y": {
             "color": "#2a3f5f"
            },
            "marker": {
             "line": {
              "color": "#E5ECF6",
              "width": 0.5
             },
             "pattern": {
              "fillmode": "overlay",
              "size": 10,
              "solidity": 0.2
             }
            },
            "type": "bar"
           }
          ],
          "barpolar": [
           {
            "marker": {
             "line": {
              "color": "#E5ECF6",
              "width": 0.5
             },
             "pattern": {
              "fillmode": "overlay",
              "size": 10,
              "solidity": 0.2
             }
            },
            "type": "barpolar"
           }
          ],
          "carpet": [
           {
            "aaxis": {
             "endlinecolor": "#2a3f5f",
             "gridcolor": "white",
             "linecolor": "white",
             "minorgridcolor": "white",
             "startlinecolor": "#2a3f5f"
            },
            "baxis": {
             "endlinecolor": "#2a3f5f",
             "gridcolor": "white",
             "linecolor": "white",
             "minorgridcolor": "white",
             "startlinecolor": "#2a3f5f"
            },
            "type": "carpet"
           }
          ],
          "choropleth": [
           {
            "colorbar": {
             "outlinewidth": 0,
             "ticks": ""
            },
            "type": "choropleth"
           }
          ],
          "contour": [
           {
            "colorbar": {
             "outlinewidth": 0,
             "ticks": ""
            },
            "colorscale": [
             [
              0,
              "#0d0887"
             ],
             [
              0.1111111111111111,
              "#46039f"
             ],
             [
              0.2222222222222222,
              "#7201a8"
             ],
             [
              0.3333333333333333,
              "#9c179e"
             ],
             [
              0.4444444444444444,
              "#bd3786"
             ],
             [
              0.5555555555555556,
              "#d8576b"
             ],
             [
              0.6666666666666666,
              "#ed7953"
             ],
             [
              0.7777777777777778,
              "#fb9f3a"
             ],
             [
              0.8888888888888888,
              "#fdca26"
             ],
             [
              1,
              "#f0f921"
             ]
            ],
            "type": "contour"
           }
          ],
          "contourcarpet": [
           {
            "colorbar": {
             "outlinewidth": 0,
             "ticks": ""
            },
            "type": "contourcarpet"
           }
          ],
          "heatmap": [
           {
            "colorbar": {
             "outlinewidth": 0,
             "ticks": ""
            },
            "colorscale": [
             [
              0,
              "#0d0887"
             ],
             [
              0.1111111111111111,
              "#46039f"
             ],
             [
              0.2222222222222222,
              "#7201a8"
             ],
             [
              0.3333333333333333,
              "#9c179e"
             ],
             [
              0.4444444444444444,
              "#bd3786"
             ],
             [
              0.5555555555555556,
              "#d8576b"
             ],
             [
              0.6666666666666666,
              "#ed7953"
             ],
             [
              0.7777777777777778,
              "#fb9f3a"
             ],
             [
              0.8888888888888888,
              "#fdca26"
             ],
             [
              1,
              "#f0f921"
             ]
            ],
            "type": "heatmap"
           }
          ],
          "heatmapgl": [
           {
            "colorbar": {
             "outlinewidth": 0,
             "ticks": ""
            },
            "colorscale": [
             [
              0,
              "#0d0887"
             ],
             [
              0.1111111111111111,
              "#46039f"
             ],
             [
              0.2222222222222222,
              "#7201a8"
             ],
             [
              0.3333333333333333,
              "#9c179e"
             ],
             [
              0.4444444444444444,
              "#bd3786"
             ],
             [
              0.5555555555555556,
              "#d8576b"
             ],
             [
              0.6666666666666666,
              "#ed7953"
             ],
             [
              0.7777777777777778,
              "#fb9f3a"
             ],
             [
              0.8888888888888888,
              "#fdca26"
             ],
             [
              1,
              "#f0f921"
             ]
            ],
            "type": "heatmapgl"
           }
          ],
          "histogram": [
           {
            "marker": {
             "pattern": {
              "fillmode": "overlay",
              "size": 10,
              "solidity": 0.2
             }
            },
            "type": "histogram"
           }
          ],
          "histogram2d": [
           {
            "colorbar": {
             "outlinewidth": 0,
             "ticks": ""
            },
            "colorscale": [
             [
              0,
              "#0d0887"
             ],
             [
              0.1111111111111111,
              "#46039f"
             ],
             [
              0.2222222222222222,
              "#7201a8"
             ],
             [
              0.3333333333333333,
              "#9c179e"
             ],
             [
              0.4444444444444444,
              "#bd3786"
             ],
             [
              0.5555555555555556,
              "#d8576b"
             ],
             [
              0.6666666666666666,
              "#ed7953"
             ],
             [
              0.7777777777777778,
              "#fb9f3a"
             ],
             [
              0.8888888888888888,
              "#fdca26"
             ],
             [
              1,
              "#f0f921"
             ]
            ],
            "type": "histogram2d"
           }
          ],
          "histogram2dcontour": [
           {
            "colorbar": {
             "outlinewidth": 0,
             "ticks": ""
            },
            "colorscale": [
             [
              0,
              "#0d0887"
             ],
             [
              0.1111111111111111,
              "#46039f"
             ],
             [
              0.2222222222222222,
              "#7201a8"
             ],
             [
              0.3333333333333333,
              "#9c179e"
             ],
             [
              0.4444444444444444,
              "#bd3786"
             ],
             [
              0.5555555555555556,
              "#d8576b"
             ],
             [
              0.6666666666666666,
              "#ed7953"
             ],
             [
              0.7777777777777778,
              "#fb9f3a"
             ],
             [
              0.8888888888888888,
              "#fdca26"
             ],
             [
              1,
              "#f0f921"
             ]
            ],
            "type": "histogram2dcontour"
           }
          ],
          "mesh3d": [
           {
            "colorbar": {
             "outlinewidth": 0,
             "ticks": ""
            },
            "type": "mesh3d"
           }
          ],
          "parcoords": [
           {
            "line": {
             "colorbar": {
              "outlinewidth": 0,
              "ticks": ""
             }
            },
            "type": "parcoords"
           }
          ],
          "pie": [
           {
            "automargin": true,
            "type": "pie"
           }
          ],
          "scatter": [
           {
            "fillpattern": {
             "fillmode": "overlay",
             "size": 10,
             "solidity": 0.2
            },
            "type": "scatter"
           }
          ],
          "scatter3d": [
           {
            "line": {
             "colorbar": {
              "outlinewidth": 0,
              "ticks": ""
             }
            },
            "marker": {
             "colorbar": {
              "outlinewidth": 0,
              "ticks": ""
             }
            },
            "type": "scatter3d"
           }
          ],
          "scattercarpet": [
           {
            "marker": {
             "colorbar": {
              "outlinewidth": 0,
              "ticks": ""
             }
            },
            "type": "scattercarpet"
           }
          ],
          "scattergeo": [
           {
            "marker": {
             "colorbar": {
              "outlinewidth": 0,
              "ticks": ""
             }
            },
            "type": "scattergeo"
           }
          ],
          "scattergl": [
           {
            "marker": {
             "colorbar": {
              "outlinewidth": 0,
              "ticks": ""
             }
            },
            "type": "scattergl"
           }
          ],
          "scattermapbox": [
           {
            "marker": {
             "colorbar": {
              "outlinewidth": 0,
              "ticks": ""
             }
            },
            "type": "scattermapbox"
           }
          ],
          "scatterpolar": [
           {
            "marker": {
             "colorbar": {
              "outlinewidth": 0,
              "ticks": ""
             }
            },
            "type": "scatterpolar"
           }
          ],
          "scatterpolargl": [
           {
            "marker": {
             "colorbar": {
              "outlinewidth": 0,
              "ticks": ""
             }
            },
            "type": "scatterpolargl"
           }
          ],
          "scatterternary": [
           {
            "marker": {
             "colorbar": {
              "outlinewidth": 0,
              "ticks": ""
             }
            },
            "type": "scatterternary"
           }
          ],
          "surface": [
           {
            "colorbar": {
             "outlinewidth": 0,
             "ticks": ""
            },
            "colorscale": [
             [
              0,
              "#0d0887"
             ],
             [
              0.1111111111111111,
              "#46039f"
             ],
             [
              0.2222222222222222,
              "#7201a8"
             ],
             [
              0.3333333333333333,
              "#9c179e"
             ],
             [
              0.4444444444444444,
              "#bd3786"
             ],
             [
              0.5555555555555556,
              "#d8576b"
             ],
             [
              0.6666666666666666,
              "#ed7953"
             ],
             [
              0.7777777777777778,
              "#fb9f3a"
             ],
             [
              0.8888888888888888,
              "#fdca26"
             ],
             [
              1,
              "#f0f921"
             ]
            ],
            "type": "surface"
           }
          ],
          "table": [
           {
            "cells": {
             "fill": {
              "color": "#EBF0F8"
             },
             "line": {
              "color": "white"
             }
            },
            "header": {
             "fill": {
              "color": "#C8D4E3"
             },
             "line": {
              "color": "white"
             }
            },
            "type": "table"
           }
          ]
         },
         "layout": {
          "annotationdefaults": {
           "arrowcolor": "#2a3f5f",
           "arrowhead": 0,
           "arrowwidth": 1
          },
          "autotypenumbers": "strict",
          "coloraxis": {
           "colorbar": {
            "outlinewidth": 0,
            "ticks": ""
           }
          },
          "colorscale": {
           "diverging": [
            [
             0,
             "#8e0152"
            ],
            [
             0.1,
             "#c51b7d"
            ],
            [
             0.2,
             "#de77ae"
            ],
            [
             0.3,
             "#f1b6da"
            ],
            [
             0.4,
             "#fde0ef"
            ],
            [
             0.5,
             "#f7f7f7"
            ],
            [
             0.6,
             "#e6f5d0"
            ],
            [
             0.7,
             "#b8e186"
            ],
            [
             0.8,
             "#7fbc41"
            ],
            [
             0.9,
             "#4d9221"
            ],
            [
             1,
             "#276419"
            ]
           ],
           "sequential": [
            [
             0,
             "#0d0887"
            ],
            [
             0.1111111111111111,
             "#46039f"
            ],
            [
             0.2222222222222222,
             "#7201a8"
            ],
            [
             0.3333333333333333,
             "#9c179e"
            ],
            [
             0.4444444444444444,
             "#bd3786"
            ],
            [
             0.5555555555555556,
             "#d8576b"
            ],
            [
             0.6666666666666666,
             "#ed7953"
            ],
            [
             0.7777777777777778,
             "#fb9f3a"
            ],
            [
             0.8888888888888888,
             "#fdca26"
            ],
            [
             1,
             "#f0f921"
            ]
           ],
           "sequentialminus": [
            [
             0,
             "#0d0887"
            ],
            [
             0.1111111111111111,
             "#46039f"
            ],
            [
             0.2222222222222222,
             "#7201a8"
            ],
            [
             0.3333333333333333,
             "#9c179e"
            ],
            [
             0.4444444444444444,
             "#bd3786"
            ],
            [
             0.5555555555555556,
             "#d8576b"
            ],
            [
             0.6666666666666666,
             "#ed7953"
            ],
            [
             0.7777777777777778,
             "#fb9f3a"
            ],
            [
             0.8888888888888888,
             "#fdca26"
            ],
            [
             1,
             "#f0f921"
            ]
           ]
          },
          "colorway": [
           "#636efa",
           "#EF553B",
           "#00cc96",
           "#ab63fa",
           "#FFA15A",
           "#19d3f3",
           "#FF6692",
           "#B6E880",
           "#FF97FF",
           "#FECB52"
          ],
          "font": {
           "color": "#2a3f5f"
          },
          "geo": {
           "bgcolor": "white",
           "lakecolor": "white",
           "landcolor": "#E5ECF6",
           "showlakes": true,
           "showland": true,
           "subunitcolor": "white"
          },
          "hoverlabel": {
           "align": "left"
          },
          "hovermode": "closest",
          "mapbox": {
           "style": "light"
          },
          "paper_bgcolor": "white",
          "plot_bgcolor": "#E5ECF6",
          "polar": {
           "angularaxis": {
            "gridcolor": "white",
            "linecolor": "white",
            "ticks": ""
           },
           "bgcolor": "#E5ECF6",
           "radialaxis": {
            "gridcolor": "white",
            "linecolor": "white",
            "ticks": ""
           }
          },
          "scene": {
           "xaxis": {
            "backgroundcolor": "#E5ECF6",
            "gridcolor": "white",
            "gridwidth": 2,
            "linecolor": "white",
            "showbackground": true,
            "ticks": "",
            "zerolinecolor": "white"
           },
           "yaxis": {
            "backgroundcolor": "#E5ECF6",
            "gridcolor": "white",
            "gridwidth": 2,
            "linecolor": "white",
            "showbackground": true,
            "ticks": "",
            "zerolinecolor": "white"
           },
           "zaxis": {
            "backgroundcolor": "#E5ECF6",
            "gridcolor": "white",
            "gridwidth": 2,
            "linecolor": "white",
            "showbackground": true,
            "ticks": "",
            "zerolinecolor": "white"
           }
          },
          "shapedefaults": {
           "line": {
            "color": "#2a3f5f"
           }
          },
          "ternary": {
           "aaxis": {
            "gridcolor": "white",
            "linecolor": "white",
            "ticks": ""
           },
           "baxis": {
            "gridcolor": "white",
            "linecolor": "white",
            "ticks": ""
           },
           "bgcolor": "#E5ECF6",
           "caxis": {
            "gridcolor": "white",
            "linecolor": "white",
            "ticks": ""
           }
          },
          "title": {
           "x": 0.05
          },
          "xaxis": {
           "automargin": true,
           "gridcolor": "white",
           "linecolor": "white",
           "ticks": "",
           "title": {
            "standoff": 15
           },
           "zerolinecolor": "white",
           "zerolinewidth": 2
          },
          "yaxis": {
           "automargin": true,
           "gridcolor": "white",
           "linecolor": "white",
           "ticks": "",
           "title": {
            "standoff": 15
           },
           "zerolinecolor": "white",
           "zerolinewidth": 2
          }
         }
        },
        "title": {
         "text": "TRANSACTION AMOUNT"
        },
        "width": 600,
        "xaxis": {
         "anchor": "y",
         "domain": [
          0,
          1
         ],
         "title": {
          "text": "Transaction_Amount"
         }
        },
        "yaxis": {
         "anchor": "x",
         "domain": [
          0,
          1
         ],
         "title": {
          "text": "states"
         }
        }
       }
      }
     },
     "metadata": {},
     "output_type": "display_data"
    }
   ],
   "source": [
    "top_chart_transaction_amount(\"aggregated_transaction\")"
   ]
  },
  {
   "cell_type": "code",
   "execution_count": 14,
   "metadata": {},
   "outputs": [],
   "source": [
    "#COUNT\n",
    "def top_chart_transaction_count(table_name):\n",
    "\n",
    "    mydb=mysql.connector.connect(host='localhost', user='root', password='srinidhi@123',database='phonepe')\n",
    "    cursor=mydb.cursor()\n",
    "    #plot_1\n",
    "\n",
    "    query1=f'''select states, sum(Transaction_count) as Transaction_count\n",
    "                from {table_name}\n",
    "                GROUP BY  states\n",
    "                ORDER BY Transaction_count DESC\n",
    "                LIMIT 10;'''\n",
    "\n",
    "    cursor.execute(query1)\n",
    "\n",
    "    table1=cursor.fetchall()\n",
    "    mydb.commit()\n",
    "\n",
    "    df_1=pd.DataFrame(table1, columns=(\"states\", \"Transaction_count\"))\n",
    "    df_1\n",
    "\n",
    "    fig_amount_1= px.bar(df_1, x=\"states\", y=\"Transaction_count\", title= \"TRANSACTION COUNT\", hover_name=\"states\",\n",
    "                        color_discrete_sequence= px.colors.sequential.Agsunset,height=600,width=600)\n",
    "    fig_amount_1.show()\n",
    "\n",
    "\n",
    "    #plot_2\n",
    "\n",
    "    query2=f'''select states, sum(Transaction_count) as Transaction_count\n",
    "                from {table_name}\n",
    "                GROUP BY  states\n",
    "                ORDER BY Transaction_count\n",
    "                LIMIT 10;'''\n",
    "\n",
    "    cursor.execute(query2)\n",
    "\n",
    "    table2=cursor.fetchall()\n",
    "    mydb.commit()\n",
    "\n",
    "    df_2=pd.DataFrame(table2, columns=(\"states\", \"Transaction_count\"))\n",
    "\n",
    "    fig_amount_2= px.bar(df_2, x=\"states\", y=\"Transaction_count\", title= \"TRANSACTION COUNT\", hover_name=\"states\",\n",
    "                        color_discrete_sequence= px.colors.sequential.Agsunset,height=600,width=600)\n",
    "    fig_amount_2.show()\n",
    "\n",
    "\n",
    "\n",
    "    #plot_3\n",
    "\n",
    "    query3=f'''select states, AVG(Transaction_count) as Transaction_count\n",
    "                from {table_name}\n",
    "                GROUP BY  states\n",
    "                ORDER BY Transaction_count;'''\n",
    "\n",
    "    cursor.execute(query3)\n",
    "\n",
    "    table3=cursor.fetchall()\n",
    "    mydb.commit()\n",
    "\n",
    "    df_3=pd.DataFrame(table3, columns=(\"states\", \"Transaction_count\"))\n",
    "\n",
    "    fig_amount_3= px.bar(df_3, x=\"Transaction_count\", y=\"states\", title= \"TRANSACTION COUNT\", hover_name=\"states\", orientation=\"h\",\n",
    "                        color_discrete_sequence= px.colors.sequential.Agsunset,height=800,width=1000)\n",
    "    fig_amount_3.show()\n",
    "\n",
    "\n"
   ]
  },
  {
   "cell_type": "code",
   "execution_count": 15,
   "metadata": {},
   "outputs": [],
   "source": [
    "#Transaction year based\n",
    "def Transaction_Amount_Count_y(df,year):\n",
    "\n",
    "    TACY=df[df[\"years\"] == year]\n",
    "    TACY.reset_index(drop=True,inplace=True)\n",
    "\n",
    "\n",
    "    TACYG=TACY.groupby(\"states\")[[\"Transaction_count\",\"Transaction_Amount\"]].sum()\n",
    "    TACYG.reset_index(inplace=True)\n",
    "\n",
    "\n",
    "    fig_amount= px.bar(TACYG, x=\"states\", y=\"Transaction_Amount\", title=f\"{year} TRANSACTION AMOUNT\",\n",
    "                    color_discrete_sequence= px.colors.sequential.Agsunset,height=600,width=600)\n",
    "    fig_amount.show()\n",
    "\n",
    "\n",
    "    fig_count= px.bar(TACYG, x=\"states\", y=\"Transaction_count\", title=f\"{year} TRANSACTION COUNT\",\n",
    "                    color_discrete_sequence= px.colors.sequential.Bluered,height=600,width=600)\n",
    "    fig_amount.show()\n",
    "\n",
    "    url= \"https://gist.githubusercontent.com/jbrobst/56c13bbbf9d97d187fea01ca62ea5112/raw/e388c4cae20aa53cb5090210a42ebb9b765c0a36/india_states.geojson\"\n",
    "\n",
    "    response= requests.get(url)\n",
    "    data1= json.loads(response.content)\n",
    "\n",
    "    states_name=[]\n",
    "    for feature in data1[\"features\"]:\n",
    "        states_name.append(feature[\"properties\"][\"ST_NM\"])\n",
    "\n",
    "    states_name.sort()\n",
    "\n",
    "    fig_india_1=px.choropleth(TACYG,geojson=data1,locations=\"states\",featureidkey=\"properties.ST_NM\",\n",
    "                              color=\"Transaction_count\",color_continuous_scale=\"Rainbow\",\n",
    "                              range_color=(TACYG[\"Transaction_count\"].min(),TACYG[\"Transaction_count\"].max()),\n",
    "                              hover_name= \"states\", title= f\"{year} TRANSACTION COUNT\", fitbounds=\"locations\",\n",
    "\n",
    "                              )\n",
    "    \n",
    "    fig_india_1.update_geos(visible= False)\n",
    "\n",
    "    fig_india_1.show()\n",
    "\n",
    "\n",
    "    fig_india_2=px.choropleth(TACYG,geojson=data1,locations=\"states\",featureidkey=\"properties.ST_NM\",\n",
    "                              color=\"Transaction_Amount\",color_continuous_scale=\"Rainbow\",\n",
    "                              range_color=(TACYG[\"Transaction_Amount\"].min(),TACYG[\"Transaction_Amount\"].max()),\n",
    "                              hover_name= \"states\", title= f\"{year} TRANSACTION AMOUNT\", fitbounds=\"locations\",\n",
    "\n",
    "                              )\n",
    "    \n",
    "    fig_india_2.update_geos(visible= False)\n",
    "\n",
    "    fig_india_2.show()\n",
    "\n",
    "    return TACY"
   ]
  },
  {
   "cell_type": "code",
   "execution_count": 16,
   "metadata": {},
   "outputs": [],
   "source": [
    "#Transaction_map_insurance:\n",
    "def Transaction_Amount_Count_y_map(df,year):\n",
    "\n",
    "    TACY=df[df[\"years\"] == year]\n",
    "    TACY.reset_index(drop=True,inplace=True)\n",
    "\n",
    "\n",
    "    TACYG=TACY.groupby(\"states\")[[\"Transaction_count\",\"Transaction_Amount\"]].sum()\n",
    "    TACYG.reset_index(inplace=True)\n",
    "\n",
    "\n",
    "    fig_amount= px.bar(TACYG, x=\"states\", y=\"Transaction_Amount\", title=f\"{year} TRANSACTION AMOUNT\",\n",
    "                    color_discrete_sequence= px.colors.sequential.Agsunset,height=600,width=600)\n",
    "    fig_amount.show()\n",
    "\n",
    "\n",
    "    fig_count= px.bar(TACYG, x=\"states\", y=\"Transaction_count\", title=f\"{year} TRANSACTION COUNT\",\n",
    "                    color_discrete_sequence= px.colors.sequential.Bluered,height=600,width=600)\n",
    "    fig_amount.show()\n",
    "\n",
    "    url= \"https://gist.githubusercontent.com/jbrobst/56c13bbbf9d97d187fea01ca62ea5112/raw/e388c4cae20aa53cb5090210a42ebb9b765c0a36/india_states.geojson\"\n",
    "\n",
    "    response= requests.get(url)\n",
    "    data1= json.loads(response.content)\n",
    "\n",
    "    states_name=[]\n",
    "    for feature in data1[\"features\"]:\n",
    "        states_name.append(feature[\"properties\"][\"ST_NM\"])\n",
    "\n",
    "    states_name.sort()\n",
    "\n",
    "    fig_india_1=px.choropleth(TACYG,geojson=data1,locations=\"states\",featureidkey=\"properties.ST_NM\",\n",
    "                              color=\"Transaction_count\",color_continuous_scale=\"Rainbow\",\n",
    "                              range_color=(TACYG[\"Transaction_count\"].min(),TACYG[\"Transaction_count\"].max()),\n",
    "                              hover_name= \"states\", title= f\"{year} TRANSACTION COUNT\", fitbounds=\"locations\",\n",
    "\n",
    "                              )\n",
    "    \n",
    "    fig_india_1.update_geos(visible= False)\n",
    "\n",
    "    fig_india_1.show()\n",
    "\n",
    "\n",
    "    fig_india_2=px.choropleth(TACYG,geojson=data1,locations=\"states\",featureidkey=\"properties.ST_NM\",\n",
    "                              color=\"Transaction_Amount\",color_continuous_scale=\"Rainbow\",\n",
    "                              range_color=(TACYG[\"Transaction_Amount\"].min(),TACYG[\"Transaction_Amount\"].max()),\n",
    "                              hover_name= \"states\", title= f\"{year} TRANSACTION AMOUNT\", fitbounds=\"locations\",\n",
    "\n",
    "                              )\n",
    "    \n",
    "    fig_india_2.update_geos(visible= False)\n",
    "\n",
    "    fig_india_2.show()\n",
    "\n",
    "    return TACY"
   ]
  },
  {
   "cell_type": "code",
   "execution_count": 17,
   "metadata": {},
   "outputs": [],
   "source": [
    "#Transaction Quarter based\n",
    "def Transaction_Amount_Count_y_Q(df,quarter):\n",
    "\n",
    "    TACY=df[df[\"Quarter\"] == quarter]\n",
    "    TACY.reset_index(drop=True,inplace=True)\n",
    "\n",
    "\n",
    "    TACYG=TACY.groupby(\"states\")[[\"Transaction_count\",\"Transaction_Amount\"]].sum()\n",
    "    TACYG.reset_index(inplace=True)\n",
    "\n",
    "\n",
    "    fig_amount= px.bar(TACYG, x=\"states\", y=\"Transaction_Amount\", title=f\"{TACY['years'].min()} YEAR {quarter} QUARTER TRANSACTION AMOUNT\",\n",
    "                    color_discrete_sequence= px.colors.sequential.Agsunset,height=600,width=600)\n",
    "    fig_amount.show()\n",
    "\n",
    "\n",
    "    fig_count= px.bar(TACYG, x=\"states\", y=\"Transaction_count\", title=f\"{TACY['years'].min()} YEAR {quarter} QUARTER{quarter} TRANSACTION COUNT\",\n",
    "                    color_discrete_sequence= px.colors.sequential.Bluered,height=600,width=600)\n",
    "    fig_amount.show()\n",
    "\n",
    "    url= \"https://gist.githubusercontent.com/jbrobst/56c13bbbf9d97d187fea01ca62ea5112/raw/e388c4cae20aa53cb5090210a42ebb9b765c0a36/india_states.geojson\"\n",
    "\n",
    "    response= requests.get(url)\n",
    "    data1= json.loads(response.content)\n",
    "\n",
    "    states_name=[]\n",
    "    for feature in data1[\"features\"]:\n",
    "        states_name.append(feature[\"properties\"][\"ST_NM\"])\n",
    "\n",
    "    states_name.sort()\n",
    "\n",
    "    fig_india_1=px.choropleth(TACYG,geojson=data1,locations=\"states\",featureidkey=\"properties.ST_NM\",\n",
    "                              color=\"Transaction_count\",color_continuous_scale=\"Rainbow\",\n",
    "                              range_color=(TACYG[\"Transaction_count\"].min(),TACYG[\"Transaction_count\"].max()),\n",
    "                              hover_name= \"states\", title= f\"{TACY['years'].min()} YEAR {quarter} QUARTER{quarter} TRANSACTION COUNT\", fitbounds=\"locations\",\n",
    "\n",
    "                              )\n",
    "    \n",
    "    fig_india_1.update_geos(visible= False)\n",
    "\n",
    "    fig_india_1.show()\n",
    "\n",
    "\n",
    "    fig_india_2=px.choropleth(TACYG,geojson=data1,locations=\"states\",featureidkey=\"properties.ST_NM\",\n",
    "                              color=\"Transaction_Amount\",color_continuous_scale=\"Rainbow\",\n",
    "                              range_color=(TACYG[\"Transaction_Amount\"].min(),TACYG[\"Transaction_Amount\"].max()),\n",
    "                              hover_name= \"states\", title= f\"{TACY['years'].min()} YEAR {quarter} QUARTER{quarter} TRANSACTION AMOUNT\", fitbounds=\"locations\",\n",
    "\n",
    "                              )\n",
    "    \n",
    "    fig_india_2.update_geos(visible= False)\n",
    "\n",
    "    fig_india_2.show()\n",
    "\n",
    "    return TACY\n"
   ]
  },
  {
   "cell_type": "code",
   "execution_count": 18,
   "metadata": {},
   "outputs": [],
   "source": [
    "##Transaction Type\n",
    "\n",
    "def aggre_trans_Transaction_type(df,state):\n",
    "\n",
    "\n",
    "    TACY=df[df[\"states\"] == state]\n",
    "    TACY.reset_index(drop=True,inplace=True)\n",
    "\n",
    "    TACYG=TACY.groupby(\"Transaction_type\")[[\"Transaction_count\",\"Transaction_Amount\"]].sum()\n",
    "    TACYG.reset_index(inplace=True)\n",
    "\n",
    "\n",
    "    fig_pie_1= px.pie(data_frame=TACYG, names= \"Transaction_type\", values = \"Transaction_Amount\",\n",
    "                    width= 600, title= f\"{state.upper()} TRANSACTION AMOUNT\",hole=0.5 )\n",
    "\n",
    "    fig_pie_1.show()\n",
    "\n",
    "    fig_pie_2= px.pie(data_frame=TACYG, names= \"Transaction_type\", values = \"Transaction_count\",\n",
    "                    width= 600, title=f\"{state.upper()} TRANSACTION COUNT\",hole=0.5 )\n",
    "\n",
    "    fig_pie_2.show()"
   ]
  },
  {
   "cell_type": "code",
   "execution_count": 19,
   "metadata": {},
   "outputs": [],
   "source": [
    "#aggre_user_analsys_1\n",
    "\n",
    "def aggre_user_plot_1(df, year):\n",
    "    aguy=df[df[\"years\"]== year]\n",
    "    aguy.reset_index(drop=True, inplace= True)\n",
    "\n",
    "    aguyg= pd.DataFrame(aguy.groupby(\"Brands\")[\"Transaction_count\"].sum())\n",
    "    aguyg.reset_index(inplace=True)\n",
    "\n",
    "\n",
    "    fig_bar_1= px.bar(aguyg, x=\"Brands\", y=\"Transaction_count\", title= f\"{year} BRANDS AND TRANSACTION COUNT\",\n",
    "                    width=1000, color_discrete_sequence= px.colors.sequential.Blackbody, hover_name=\"Brands\")\n",
    "\n",
    "    fig_bar_1.show()\n",
    "\n",
    "    return aguy"
   ]
  },
  {
   "cell_type": "code",
   "execution_count": 20,
   "metadata": {},
   "outputs": [],
   "source": [
    "#aggre_user_analsys_2\n",
    "def aggre_user_plot_2(df, Quarter):\n",
    "    aguyq=df[df[\"Quarter\"]== Quarter]\n",
    "    aguyq.reset_index(drop=True, inplace= True)\n",
    "\n",
    "    aguyqg=pd.DataFrame(aguyq.groupby(\"Brands\")[\"Transaction_count\"].sum())\n",
    "    aguyqg.reset_index(inplace=True)\n",
    "\n",
    "\n",
    "    fig_bar_1= px.bar(aguyqg, x=\"Brands\", y=\"Transaction_count\", title= f\"{Quarter} Quarter, BRANDS AND TRANSACTION COUNT\",\n",
    "                    width=1000, color_discrete_sequence= px.colors.sequential.Blackbody, hover_name=\"Brands\")\n",
    "    fig_bar_1.show()\n",
    "\n",
    "    return aguyq\n"
   ]
  },
  {
   "cell_type": "code",
   "execution_count": 21,
   "metadata": {},
   "outputs": [],
   "source": [
    "#map_insurance\n",
    "\n",
    "def map_insurance_district(df,state):\n",
    "\n",
    "\n",
    "    TACY=df[df[\"states\"] == state]\n",
    "    TACY.reset_index(drop=True,inplace=True)\n",
    "\n",
    "    TACYG=TACY.groupby(\"Districts\")[[\"Transaction_count\",\"Transaction_Amount\"]].sum()\n",
    "    TACYG.reset_index(inplace=True)                                                                        \n",
    "\n",
    "\n",
    "    fig_bar_1= px.bar(TACYG, x=\"Transaction_Amount\" , y= \"Districts\" , orientation=\"h\", title=f\"{state.upper()} DISTRICTS AND TRANSACTION AMOUNT \")\n",
    "    fig_bar_1.show()\n",
    "\n",
    "    fig_bar_2= px.bar(TACYG, x=\"Transaction_count\" , y= \"Districts\" , orientation=\"h\", title=f\"{state.upper()} DISTRICTS AND TRANSACTION COUNT \")\n",
    "    fig_bar_2.show()"
   ]
  },
  {
   "cell_type": "code",
   "execution_count": 22,
   "metadata": {},
   "outputs": [],
   "source": [
    "#Map_user_plot_1\n",
    "def map_user_plot_1(df, year):\n",
    "\n",
    "    muy=df[df[\"years\"]== year]\n",
    "    muy.reset_index(drop=True, inplace= True)\n",
    "\n",
    "    muyg=muy.groupby(\"states\")[[\"RegisteredUsers\",\"AppOpens\"]].sum()\n",
    "    muyg.reset_index(inplace=True)\n",
    "\n",
    "    fig_line_1=px.line(muyg, x= \"states\", y=[\"RegisteredUsers\",\"AppOpens\"], \n",
    "                    title= f\"{year} REGISTERED USER, APPOPENS\",width=1000,height=800,markers=True)\n",
    "\n",
    "    fig_line_1.show()\n",
    "    return muy"
   ]
  },
  {
   "cell_type": "code",
   "execution_count": 23,
   "metadata": {},
   "outputs": [],
   "source": [
    "#Map_user_plot_2\n",
    "def map_user_plot_2(df, Quarter\t):\n",
    "\n",
    "    muyq=df[df[\"Quarter\"]== Quarter\t]\n",
    "    muyq.reset_index(drop=True, inplace= True)\n",
    "\n",
    "    muyqg=muyq.groupby(\"states\")[[\"RegisteredUsers\",\"AppOpens\"]].sum()\n",
    "    muyqg.reset_index(inplace=True)\n",
    "\n",
    "    fig_line_1=px.line(muyqg, x= \"states\", y=[\"RegisteredUsers\",\"AppOpens\"], \n",
    "                    title= f\"{df['years'].min()} YEARS {Quarter} QUARTER REGISTERED USER, APPOPENS\",width=1000,height=800,markers=True,\n",
    "                    color_discrete_sequence= px.colors.sequential.Rainbow_r)\n",
    "\n",
    "    fig_line_1.show()\n",
    "    return muyq"
   ]
  },
  {
   "cell_type": "code",
   "execution_count": 24,
   "metadata": {},
   "outputs": [],
   "source": [
    "#map_user_plot_3\n",
    "def map_user_plot_3(df, states):\n",
    "    muyqs=df[df[\"states\"]== states]\n",
    "    muyqs.reset_index(drop=True, inplace= True)\n",
    "\n",
    "\n",
    "    fig_map_user_bar_1=px.bar(muyqs, x=\"RegisteredUsers\", y=\"Districts\", orientation= \"h\",\n",
    "                            title=\"REGISTEREDUSER\", height=800, color_discrete_sequence= px.colors.sequential.amp_r)\n",
    "\n",
    "    fig_map_user_bar_1.show()\n",
    "\n",
    "    fig_map_user_bar_2=px.bar(muyqs, x=\"AppOpens\", y=\"Districts\", orientation= \"h\",\n",
    "                            title=\"APPOPENS\", height=800, color_discrete_sequence= px.colors.sequential.amp_r)\n",
    "\n",
    "    fig_map_user_bar_2.show()"
   ]
  },
  {
   "cell_type": "code",
   "execution_count": 25,
   "metadata": {},
   "outputs": [],
   "source": [
    " #top_insurance_plot_1\n",
    " def top_insurance_plot_1(df, state):\n",
    "\n",
    "    tiy=df[df[\"states\"]== state]\n",
    "    tiy.reset_index(drop=True, inplace= True)\n",
    "\n",
    "    tiyg=tiy.groupby(\"Pincodes\")[[\"Transaction_count\",\"Transaction_Amount\"]].sum()\n",
    "    tiyg.reset_index(inplace=True)\n",
    "\n",
    "    fig_top_insurance_bar_1=px.bar(tiy, x=\"Quarter\", y=\"Transaction_Amount\", hover_data= \"Pincodes\",\n",
    "                                title=\"TRANSACTION AMOUNT\", height=800, color_discrete_sequence= px.colors.sequential.amp_r)\n",
    "\n",
    "    fig_top_insurance_bar_1.show()\n",
    "\n",
    "    fig_top_insurance_bar_2=px.bar(tiy, x=\"Quarter\", y=\"Transaction_count\", hover_data= \"Pincodes\",\n",
    "                                title=\"TRANSACTION cOUNT\", height=800, color_discrete_sequence= px.colors.sequential.amp_r)\n",
    "\n",
    "    fig_top_insurance_bar_1.show()\n",
    "\n"
   ]
  },
  {
   "cell_type": "code",
   "execution_count": 26,
   "metadata": {},
   "outputs": [],
   "source": [
    "#top user\n",
    "def top_user_plot_1(df, year):\n",
    "\n",
    "    tuy=df[df[\"years\"]== year]\n",
    "    tuy.reset_index(drop=True, inplace= True)\n",
    "\n",
    "    tuyg= pd.DataFrame(tuy.groupby([\"states\", \"Quarter\"])[\"RegisteredUsers\"].sum())\n",
    "    tuyg.reset_index(inplace=True)\n",
    "\n",
    "\n",
    "    fig_top_plot_1 = px.bar(tuyg, x=\"states\", y=\"RegisteredUsers\", color=\"Quarter\", width=1000, height=800,\n",
    "                        hover_name=\"states\", title= f\"{year} REGISTERED USERS\")\n",
    "\n",
    "    fig_top_plot_1.show()              \n",
    "\n",
    "    return tuy"
   ]
  },
  {
   "cell_type": "code",
   "execution_count": 27,
   "metadata": {},
   "outputs": [],
   "source": [
    "#top_user_plot_2\n",
    "def top_user_plot_2(df, state):    \n",
    "    \n",
    "    tuys=df[df[\"states\"]== state]\n",
    "    tuys.reset_index(drop=True, inplace= True)\n",
    "\n",
    "\n",
    "    fig_top_plot_2= px.bar(tuys, x= \"Quarter\", y= \"RegisteredUsers\", title= \"REGISTEREDUSER, PINCODES, QUARTER\",\n",
    "                        width=1000, height=800,color=\"RegisteredUsers\", hover_data= \"Pincodes\")"
   ]
  },
  {
   "cell_type": "code",
   "execution_count": 60,
   "metadata": {},
   "outputs": [],
   "source": [
    "def top_chart_Registered_User(table_name, state):\n",
    "\n",
    "    mydb=mysql.connector.connect(host='localhost', user='root', password='srinidhi@123',database='phonepe')\n",
    "    cursor=mydb.cursor()\n",
    "    #plot_1\n",
    "\n",
    "    query1=f'''select districts, sum(registeredusers) as Registeredusers\n",
    "                from {table_name}\n",
    "                where states='{state}'\n",
    "                group by districts\n",
    "                order by registeredusers DESC\n",
    "                LIMIT 10;'''\n",
    "\n",
    "    cursor.execute(query1)\n",
    "\n",
    "    table1=cursor.fetchall()\n",
    "    mydb.commit()\n",
    "\n",
    "    df_1=pd.DataFrame(table1, columns=(\"districts\", \"Registeredusers\"))\n",
    "    df_1\n",
    "\n",
    "    fig_amount_1= px.bar(df_1, x=\"districts\", y=\"Registeredusers\", title= \"top 10 of REGISTERED USER\", hover_name=\"districts\",\n",
    "                        color_discrete_sequence= px.colors.sequential.Agsunset,height=600,width=600)\n",
    "    fig_amount_1.show()\n",
    "\n",
    "\n",
    "    #plot_2\n",
    "\n",
    "    query2=f'''select districts, AVG(registeredusers) as Registeredusers\n",
    "                from {table_name}\n",
    "                where states='{state}'\n",
    "                group by districts\n",
    "                order by registeredusers\n",
    "                LIMIT 10;'''\n",
    "\n",
    "    cursor.execute(query2)\n",
    "\n",
    "    table2=cursor.fetchall()\n",
    "    mydb.commit()\n",
    "\n",
    "    df_2=pd.DataFrame(table2, columns=(\"districts\", \"Registeredusers\"))\n",
    "\n",
    "    fig_amount_2= px.bar(df_2, x=\"districts\", y=\"Registeredusers\", title= \"LAST 10 OF REGISTERED USER\", hover_name=\"districts\",\n",
    "                        color_discrete_sequence= px.colors.sequential.Agsunset,height=600,width=600)\n",
    "    fig_amount_2.show()\n",
    "\n",
    "\n",
    "\n",
    "    #plot_3\n",
    "\n",
    "    query3=f'''select districts, AVG(registeredusers) as Registeredusers\n",
    "                from {table_name}\n",
    "                where states='{state}'\n",
    "                group by districts\n",
    "                order by registeredusers;'''\n",
    "\n",
    "    cursor.execute(query3)\n",
    "\n",
    "    table3=cursor.fetchall()\n",
    "    mydb.commit()\n",
    "\n",
    "    df_3=pd.DataFrame(table3, columns=(\"districts\", \"Registeredusers\"))\n",
    "\n",
    "    fig_amount_3= px.bar(df_3, y=\"districts\", x=\"Registeredusers\", title= \"AVARAGE OF REGISTERED USER\", hover_name=\"districts\", orientation=\"h\",\n",
    "                        color_discrete_sequence= px.colors.sequential.Agsunset,height=800,width=1000)\n",
    "    fig_amount_3.show()\n",
    "\n",
    "\n"
   ]
  },
  {
   "cell_type": "code",
   "execution_count": 65,
   "metadata": {},
   "outputs": [],
   "source": [
    "def top_chart_Registered_Users(table_name):\n",
    "\n",
    "    mydb=mysql.connector.connect(host='localhost', user='root', password='srinidhi@123',database='phonepe')\n",
    "    cursor=mydb.cursor()\n",
    "    #plot_1\n",
    "\n",
    "    query1=f'''select states, sum(RegisteredUsers) as RegisteredUsers\n",
    "                from {table_name}\n",
    "                group by states\n",
    "                order by registeredusers DESC\n",
    "                LIMIT 10;'''\n",
    "\n",
    "    cursor.execute(query1)\n",
    "\n",
    "    table1=cursor.fetchall()\n",
    "    mydb.commit()\n",
    "\n",
    "    df_1=pd.DataFrame(table1, columns=(\"states\", \"Registeredusers\"))\n",
    "    df_1\n",
    "\n",
    "    fig_amount_1= px.bar(df_1, x=\"states\", y=\"Registeredusers\", title= \"top 10 of REGISTERED USERS\", hover_name=\"states\",\n",
    "                        color_discrete_sequence= px.colors.sequential.Agsunset,height=600,width=600)\n",
    "    fig_amount_1.show()\n",
    "\n",
    "\n",
    "    #plot_2\n",
    "\n",
    "    query2=f'''select states, sum(RegisteredUsers) as RegisteredUsers\n",
    "                from {table_name}\n",
    "                group by states\n",
    "                order by registeredusers\n",
    "                LIMIT 10;'''\n",
    "\n",
    "    cursor.execute(query2)\n",
    "\n",
    "    table2=cursor.fetchall()\n",
    "    mydb.commit()\n",
    "\n",
    "    df_2=pd.DataFrame(table2, columns=(\"states\", \"Registeredusers\"))\n",
    "\n",
    "    fig_amount_2= px.bar(df_2, x=\"states\", y=\"Registeredusers\", title= \"LAST 10 OF REGISTERED USERS\", hover_name=\"states\",\n",
    "                        color_discrete_sequence= px.colors.sequential.Agsunset,height=600,width=600)\n",
    "    fig_amount_2.show()\n",
    "\n",
    "\n",
    "\n",
    "    #plot_3\n",
    "\n",
    "    query3=f'''select states, avg(RegisteredUsers) as RegisteredUsers\n",
    "                from {table_name}\n",
    "                group by states\n",
    "                order by registeredusers;'''\n",
    "\n",
    "    cursor.execute(query3)\n",
    "\n",
    "    table3=cursor.fetchall()\n",
    "    mydb.commit()\n",
    "\n",
    "    df_3=pd.DataFrame(table3, columns=(\"states\", \"Registeredusers\"))\n",
    "\n",
    "    fig_amount_3= px.bar(df_3, y=\"states\", x=\"Registeredusers\", title= \"AVARAGE OF REGISTERED USERS\", hover_name=\"states\", orientation=\"h\",\n",
    "                        color_discrete_sequence= px.colors.sequential.Agsunset,height=800,width=1000)\n",
    "    fig_amount_3.show()\n",
    "\n",
    "\n"
   ]
  }
 ],
 "metadata": {
  "kernelspec": {
   "display_name": "Python 3",
   "language": "python",
   "name": "python3"
  },
  "language_info": {
   "codemirror_mode": {
    "name": "ipython",
    "version": 3
   },
   "file_extension": ".py",
   "mimetype": "text/x-python",
   "name": "python",
   "nbconvert_exporter": "python",
   "pygments_lexer": "ipython3",
   "version": "3.10.6"
  }
 },
 "nbformat": 4,
 "nbformat_minor": 2
}
